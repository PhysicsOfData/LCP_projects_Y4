{
 "cells": [
  {
   "cell_type": "markdown",
   "metadata": {},
   "source": [
    "# Hopfield model and data reconstuction\n",
    "\n",
    "\n",
    "### Description\n",
    "The [Hopfield network](https://en.wikipedia.org/wiki/Hopfield_network), also introduced in the course Models of Theoretical Physics, is a simple model of neuron dynamics that can be mapped to a spin system with inhomogeneous couplings. Hence, Hopfield networks are described as spin glasses, with spins Si  and spin-spin interactions $J_{ij} S_i S_j$ . The full Hamiltonian of the system is $H[S]=-\\sum_{i<j} J_{ij}S_i S_j$. The network in practice is used to store patterns in its spin-spin coupling constants $J_{ij}=J_{ji}$ . A pattern ${x_i|i=1,...,N}$ is a given configuration of spins ${x_i=S_i}$, each equal to +1 or -1. It could represent for example a black (+1) and white (-1) pixel in a picture. The properties of the Hopfield network include the fact that:\n",
    "\n",
    "a. it can store P different patterns $x^a=\\{x^a_{i}\\}$ $(1\\le a \\le P)$ as long as P is much smaller than the number N of spins.\n",
    "\n",
    "b. it can recover a pattern $x^a$ from a corrupted ya by energy minimization of the spins of $y^a$.\n",
    "\n",
    "### Datasets\n",
    "\n",
    "a. a set of random arrays and patterns;\n",
    "\n",
    "b. the MNIST database of handwritten digits. In this case, the group should find a way to define the P=10 patterns relative to the 10 digits 0,1,2,..,9.\n",
    "\n",
    "\n",
    "### Assignments\n",
    "\n",
    "The project aims at simulating a Hopfield network by:\n",
    "\n",
    "a. Generate or read from file P patterns and imprint their vaules in the couplings Jij between spins, by fixing the couplings to constant values $J_{ij} = \\sum_{a=1}^P x^a_i x^a_j / N$. Note that a mean field version is adopted if all pairs $1\\le i \\le j \\le P$ are used (this is what was presented in the theoretical course). If a 2d image is considered for a pattern, one can also explore other versions, such as nonzero coupling only between spins within a distance R from each other.\n",
    "\n",
    "b. Generate corrupted patterns $\\{y^a\\}$, for example, by copying each $y^a_i = x^a_i$ with probability $q<1$, otherwise setting  $y^a_i = -x^a_i$ with probability $(1 – q)$.\n",
    "\n",
    "c. Recover the patterns from progressively more corrupted $y^a$, obtained by increasing $q$, till the point where it becomes difficult to get back to the original patterns xa. The recovery may be implemented by iterating the “sign” rule (each new spin at time t+1 equals $S_i(t+1) = \\sum_j J_{ij}S_j(t)$ obtained from spins at time t) starting from $S(0)=y^a$ . It can also be attempted by a minimization of the Hamiltonian with a Monte Carlo based on random spin flips and the Metropolis rule.\n",
    "\n",
    "d. Check how much pattern overlap is allowed while keeping each pattern distinguishable from the others.\n",
    "\n",
    "e. Describe the clearly and coherently the findings of the previous points.\n",
    "\n",
    "### Contacts\n",
    "\n",
    "Marco Baiesi <marco.baiesi@unipd.it>"
   ]
  },
  {
   "cell_type": "code",
   "execution_count": null,
   "metadata": {},
   "outputs": [],
   "source": []
  }
 ],
 "metadata": {
  "kernelspec": {
   "display_name": "Python 3",
   "language": "python",
   "name": "python3"
  },
  "language_info": {
   "codemirror_mode": {
    "name": "ipython",
    "version": 3
   },
   "file_extension": ".py",
   "mimetype": "text/x-python",
   "name": "python",
   "nbconvert_exporter": "python",
   "pygments_lexer": "ipython3",
   "version": "3.5.4"
  }
 },
 "nbformat": 4,
 "nbformat_minor": 2
}
