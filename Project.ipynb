{
 "cells": [
  {
   "cell_type": "markdown",
   "metadata": {},
   "source": [
    "# Tracking muons with 4 Drift Tubes chambers setup\n",
    "\n",
    "### Description\n",
    "\n",
    "The project consist in the analysis of the data gathered by four drift-tubes detectors during a beam test aimed at the production of $\\mu^+ - \\mu^-$ pairs. This was achieved by shooting 45 GeV positrons on a Beryllium target. Most of the collisons yielded background events (e.g. Bhabha scattering events), whereas only a small fraction produced an actual muons pair. A signal event would consist of two tracks, each traversing two muon detectors (as a dipole magnet deflected in different directions the positively and the negatively charged particles).\n",
    "\n",
    "The following figure displays a signal event. It is possible to notice the positioning of the four drift-tubes detectors. Particles are moving essentially along the $z$ axis (the beam direction) while the bending due to the dipole magnet occures along the $x$ axis. The $y$ coordinate is irrelevant in this context as it was not measured. \n",
    "![alt text](./Figure_1228.png)\n"
   ]
  },
  {
   "cell_type": "markdown",
   "metadata": {},
   "source": [
    "Calibration runs were taken too, by shouting directly positive muons at a given energy on the target, e.g. they consist of single tracks on either of the two sides of the apparatus as shown in the following picture. Which side of the apparatus was determined by the sign of the current powering the magnet.\n",
    "\n",
    "![alt text](./Figure_r261_19.png)"
   ]
  },
  {
   "cell_type": "markdown",
   "metadata": {},
   "source": [
    "Each detector consists of four layers of drift-tubes, i.e. cells with an anodic wire at the center and cathods at the sides filled up with a gas mixture of ${\\rm Ar-CO_2}$ ($85\\%-15\\%$). The passage of a charged particle through a cell would ionize the gas, with a consequent drift of electrons towards the anodic wire. Exploiting a linear relation (the drift velocity inside the cell is constant), by measuring the time of arrival of the primary ionization, it is possible to reconstruct the track's position within the cell. Note that there is a left-right ambiguity in the determination of the position (blue-red dots in the display).\n",
    "\n",
    "The following picture shows the hits left by the muons passing through one fo the detectors (the straight lines represent fits to the recorded hits, we will come to that later). The anodic wires (not drawn) sit at the center of the cells.\n",
    "![alt text](./Figure_1228_zoom.png)"
   ]
  },
  {
   "cell_type": "markdown",
   "metadata": {},
   "source": [
    "As it can be seen, the layers are staggered by half a cell.\n",
    "\n",
    "The relevant dimensions and the overall coordinate transformations in $z$ and $x$ are given below. Note that all the quantities are expressed in $mm$. "
   ]
  },
  {
   "cell_type": "code",
   "execution_count": 5,
   "metadata": {},
   "outputs": [],
   "source": [
    "# Cell dimensions\n",
    "XCELL = 42.\n",
    "ZCELL = 13.\n",
    "\n",
    "# X coordinates translation\n",
    "global_x_shifts = [994.2, 947.4,-267.4,-261.5,]\n",
    "\n",
    "# Z coordinates translations\n",
    "local_z_shifts = [z*ZCELL for z  in range(0,4)]\n",
    "global_z_shifts = [823.5, 0, 823.5, 0]"
   ]
  },
  {
   "cell_type": "markdown",
   "metadata": {},
   "source": [
    "### Datasets\n",
    "\n",
    "In your assigned VM (LCPmodA-Y4-Gr1, IP: 10.67.22.126) you find the relevant datasets on `\\data`. There are two folders where data for the physics runs and the calibration runs are stored. \n",
    "\n",
    "#### Calibration runs\n",
    "\n",
    "In the following table the relevant parameters for the calibration runs are listed\n",
    "\n",
    "| Run |  Energy (GeV)|  Magnet current (A)|\n",
    "|-----|:---:|:-----:|\n",
    "| 260 | 22 | -580 |\n",
    "| 261 | 18 | -850 |\n",
    "| 262 | 18 |  850 |\n",
    "| 263 | 22 |  580 |\n",
    "\n",
    "#### Physics runs\n",
    "\n",
    "All physics runs were taken in the same conditions. Only one run, `Run000333` is present in the VM. Be reminded that $\\mu^+ - \\mu^-$ are very rare. These runs are contaminated by a lot of noise, their analysis requires a lot of care in (pre-)selecting good signal candidates\n",
    "\n",
    "\n",
    "#### Data format\n",
    "\n",
    "The data files are organized as a series of events (rows) where each event consist of the coordinates of the hits recorded in that event (N.B.: as the number of hits for even is not fixed, the dataset cannot be seen as a unique big table with a defined number of \"columns\"). More specifically every raw consists of:\n",
    "\n",
    "* event number\n",
    "* number of recorded hits (N)\n",
    "* hit 1 coordinates\n",
    "* ...\n",
    "* hit N coordinates\n",
    "\n",
    "where N could be zero too and the hits coordinates are: \n",
    "* *chamber*, which of the four detector registered the hit (numbering is in the range $0-4$)\n",
    "* *layer*, which layer of that detector\n",
    "* *xleft*, the x position of the hit **in the local detector coordinates** assuming the track passed at the left of the wire\n",
    "* *xright*, the x position of the hit **in the local detector coordinates** assuming the track passed at the right of the wire\n",
    "* *time*, the drift time (redundant)\n",
    "\n",
    "The local detector coordinates are defined with respect to one side (the left one) of the detector. All the detectors however were placed rotated by 180 degrees, i.e. the x axes of the local and global coordinates have different orientation.\n"
   ]
  },
  {
   "cell_type": "markdown",
   "metadata": {},
   "source": [
    "### Assignments\n",
    "\n",
    "The goal of the analysis is to select and study events with muon(s) passing through the detectors.\n",
    "You can start looking at the calibration runs as most of those events consist of muon tracks.\n",
    "\n",
    "Suggestion to be followed: for every event create a Pandas DataFrame with the hits recorded in that event. Add columns (features) as needed (e.g. global coordinates)\n",
    "\n",
    "- Part 1, setting up\n",
    "    * Process the data and place the hits approriately in the global $xz$ plane (e.g. transform local coordinates into global coordinates)\n",
    "    * Display (event-by-event) the four detectors, the hits and the cell where the hits are found\n",
    "- Part 2, reconstruction on calibration run \n",
    "    * Select good events by requiring hits either on the left side (detectors 0 and 1) or on the right side (detectors 2 and 3)\n",
    "    * Perform a local linear fit of the hits in each detector, for the cases where at least 3 hits in 3 different layers are found\n",
    "    * Perform a global linear fit combining the hits of 2 detectors in the 3D space\n",
    "    * Add the result of the fits to the event display (you should get what is shown in the pictures above, where the dashed lines correspond to the local fits and the solid line to the global one)\n",
    "- Part 3, reconstruction on physics runs\n",
    "    * As in part 2 but on the physics run. The minimal requirment is to develop a signal selection strategy, the rest of the analysis is optional\n",
    "    \n",
    "### Contacts\n",
    "\n",
    "* Marco Zanetti <marco.zanetti@unipd.it>\n",
    "* Alberto Zucchetta <alberto.zucchetta@pd.infn.it>\n",
    "* Jacopo Pazzini <jacopo.pazzini@unipd.it>\n"
   ]
  },
  {
   "cell_type": "code",
   "execution_count": null,
   "metadata": {},
   "outputs": [],
   "source": []
  }
 ],
 "metadata": {
  "kernelspec": {
   "display_name": "Python 3",
   "language": "python",
   "name": "python3"
  },
  "language_info": {
   "codemirror_mode": {
    "name": "ipython",
    "version": 3
   },
   "file_extension": ".py",
   "mimetype": "text/x-python",
   "name": "python",
   "nbconvert_exporter": "python",
   "pygments_lexer": "ipython3",
   "version": "3.8.5"
  }
 },
 "nbformat": 4,
 "nbformat_minor": 2
}
