{
 "cells": [
  {
   "cell_type": "markdown",
   "metadata": {},
   "source": [
    "# Monte Carlo methods and finite size analysis in paramagnetic-ferromagnetic models of  phase transitions\n",
    "\n",
    "\n",
    "###  Description and assignments\n",
    "\n",
    "The objective is to study, by Monte Carlo simulations,  Ising-like modes on the square lattice  and look at  the behaviour of observables such as the specific heat, magnetisation and magnetic susceptibility, $\\chi$,  as a function of the temperature ed in particular in proximity of the critical point (exactly known in $d=2$ due to the Onsager solution)\n",
    "\n",
    "The Monte Carlo algorithm  can be based on proposed local moves of Glauber type (i.e. spin flip) and accepted with respect to the Metropolis-Hastings filter.\n",
    "It would be interesting to see how the above mentioned observables behaves  as a function of the system size and perform a finite-size scaling analysis to estimate some critical exponents such as the gamma  exponent that governs  the divergence of chi at $T_c$.\n",
    "\n",
    "A discussion on how to collect uncorrelated data and on the critical slowing down problem can be also considered.\n",
    "\n",
    "### Contacts\n",
    "* Enzo Orlandini <enzo.orlandini@unipd.it>\n"
   ]
  },
  {
   "cell_type": "code",
   "execution_count": null,
   "metadata": {},
   "outputs": [],
   "source": []
  }
 ],
 "metadata": {
  "kernelspec": {
   "display_name": "Python 3",
   "language": "python",
   "name": "python3"
  },
  "language_info": {
   "codemirror_mode": {
    "name": "ipython",
    "version": 3
   },
   "file_extension": ".py",
   "mimetype": "text/x-python",
   "name": "python",
   "nbconvert_exporter": "python",
   "pygments_lexer": "ipython3",
   "version": "3.5.4"
  }
 },
 "nbformat": 4,
 "nbformat_minor": 2
}
