{
 "cells": [
  {
   "cell_type": "markdown",
   "metadata": {},
   "source": [
    "# Hierarchical mergers of binary black holes\n",
    "\n",
    "All the relevant information for the project are to be found in the pdf document present in the repo.\n",
    "Note that you are assigned to project 2 (as the title said).\n",
    "\n",
    "## Datasets \n",
    "\n",
    "Datasets are stored on Google Drive (link and description in the pdf document)\n",
    "\n",
    "### Contacts\n",
    "\n",
    "* Michela Mapelli <michela.mapelli@unipd.it>\n"
   ]
  },
  {
   "cell_type": "code",
   "execution_count": null,
   "metadata": {},
   "outputs": [],
   "source": []
  }
 ],
 "metadata": {
  "kernelspec": {
   "display_name": "Python 3",
   "language": "python",
   "name": "python3"
  },
  "language_info": {
   "codemirror_mode": {
    "name": "ipython",
    "version": 3
   },
   "file_extension": ".py",
   "mimetype": "text/x-python",
   "name": "python",
   "nbconvert_exporter": "python",
   "pygments_lexer": "ipython3",
   "version": "3.8.8"
  }
 },
 "nbformat": 4,
 "nbformat_minor": 2
}
