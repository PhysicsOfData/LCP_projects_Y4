{
 "cells": [
  {
   "cell_type": "markdown",
   "metadata": {},
   "source": [
    "# Simulation of a positron-induced Muon Source (part 1)\n",
    "\n",
    "### Description\n",
    "\n",
    "The production of a high brillance muon beam is one of the most important challenge for the future of Particle Physics. A particularly interesting idea consists of shooting high energy positrons on a target, aiming at the production of muons by means of the process $e^+ + e^- \\rightarrow \\mu^+ + \\mu^-$. To mimize the divergence of the resulting \"muon beam\", the positrons energy is chosen so that the reaction occurs close to threshold (assuming the electrons in the target to be at rest). The main goal of this project is to produce a Monte Carlo simulation of such a process. \n",
    "\n",
    "### Assignments\n",
    "\n",
    "The project is split into two parts, which are both reported here for consistency. This group has only to cover _part 1_.\n",
    "\n",
    "#### Part 1: generate a simulated dataset of $e^+ + e^- \\rightarrow \\mu^+ + \\mu^-$ events.\n",
    "\n",
    "1. Compute the process leading-order cross section, $\\sigma(\\theta; \\sqrt{s})$, as a function of the scattering angle $\\theta$ and with the  center of mass energy $\\sqrt{s}$ as a parameter. Start by computing it in the center of mass system. N.B.: textbooks reports such cross section in the relativistic limit, i.e. for $\\sqrt{s}\\gg m_\\mu$, which is clearly not the case here ($\\sqrt{s}\\sim 2m_\\mu$);\n",
    "2. compute and display the angle and momentum components distributions of the emerging muon pairs;\n",
    "3. boost muons four-momenta in the laboratory frame, i.e. in the frame where the electron is at rest and the positron has enough energy to give rise to the process;\n",
    "4. write a Monte Carlo simulation that generates scattering events following the distrubtions that you found analytically; \n",
    "5. produce a synthetic dataset of about $N=10^5$ (or more) events. Events should be listed as rows in a file with columns representing the muons coordinates (keep in mind that in the lab frame muons are relativistic and thus the number of coordinates can be only 3 per muon);\n",
    "6. assume a $3$ cm thick Beryllium block is used as target and a rate of positron on target of $10^6$ Hz. Compute the rescaling factor (weight) you need to apply to the $N$ simulated events such that they represent the statistics that would be gathered in a week of countinuous operations;\n",
    "7. repeat what done so far simulating now the actual transverse shape and energy spread of the beam: for the former assume a flat distribution in a circle of radius $r=1$ cm and for the latter a gaussian distribution centered at the nominal beam energy and a width of $0.5$ GeV;\n",
    "8. given that the electrons traversing the target lose energy as $E(z)=E_0 \\exp{-z/X_0}$ (with z the longitudinal coordinate of the target, the one parallel to the beam direction and $X_0$ is the Beryllium radiation length), compute the nominal beam energy $E_0$ such that muon pairs can be generated along the whole length of the target;\n",
    "9. (optional) take the former point into account when generating the events (i.e. the proccess $\\sqrt{s}$ depend on the position along the target where the $e^+ - e^-$ scattering occurrs.\n",
    "\n",
    "\n",
    "#### Part 2: use the synthetic dataset to design an experiment\n",
    "\n",
    "Assume a $2$ meter long, $1.7$ Tesla dipole magnet is placed after the target. Assume a number of tracking detectors can be placed before the target, after the target before the magnet (one line) and after the magnet (two lines, one for positive the other for negative muons); those could be made of silicon pixels, with a single-hit resolution varying from 50 to 200 ${\\rm \\mu m}$.  \n",
    "Try to address the following items keeping in mind that money matters (i.e. you cannot buy an infinite number of detectors and the smaller the single-hit resolution the higher the cost) and that the layout of the experiment has to be as compact as possible (say whithin 20 m).\n",
    "\n",
    "1. Define the sizes of the various detectors, such that all the particles traverse them (i.e. $100\\%$ detector acceptance); \n",
    "2. have each event of the synthetich dataset \"interacting\" with the detectors, i.e. generate a dataset with the hits (properly smeared due to detector resolutions) left by particles crosssing each detector. That should correspond to the actual measurments gathered by the experiment;\n",
    "3. add some random noise to such measurements (e.g. for each detector accordingly to poisson statistic of mean about 1);\n",
    "4. develop an algorithm to track the particles, both the incoming positrons and the outgoing muons.\n",
    "5. keep in consideration the fact that the two muons emerge synchronously from the target: how small the pitch (the distance between individual pixels) have to be of the detectors prior to the magnet? If that is too small, adjust the tracking algorithm accordingly (i.e. the reconstruct muon tracks could share hits in those detectors) \n",
    "6. compute the resolution of the muon momenta and of the $\\sqrt(s)$;\n",
    "7. (optional, a though one..) correct the muon trajectories for the transverse position of the hard scattering on the target section. Actually the incoming positrons are both dispersed in space (the flat distribution with  $r=1$ cm) and divergent; one would need to correct for that too.\n",
    "\n",
    "### References\n",
    "\n",
    "* [LEMMA](https://arxiv.org/pdf/1509.04454.pdf) paper. The original paper describing the positron-induced low emittance muon source, ehere all the relevant kinematic features of the process have been studied\n",
    "* [Babayaga](https://www2.pv.infn.it/~hepcomplex/babayaga.html) event generator. You may want to install and run it as a comparison for your results.\n",
    "* [2018 Experiment](https://arxiv.org/pdf/1909.13716.pdf): the paper describing the (very poor..) results of the experiment carried out in summer 2018\n",
    "* [2021 proposal](https://cds.cern.ch/record/2712394?ln=en): the proposal for the experiment in 2021\n",
    "\n",
    "\n",
    "### Contact\n",
    "\n",
    "* Marco Zanetti <marco.zanetti@unipd.it>\n",
    "* Camilla Curatolo <camilla.curatolo@pd.infn.it>\n",
    "* Nicola Amapane <nicola.amapane@unito.it>\n"
   ]
  },
  {
   "cell_type": "code",
   "execution_count": null,
   "metadata": {},
   "outputs": [],
   "source": []
  }
 ],
 "metadata": {
  "kernelspec": {
   "display_name": "Python 3",
   "language": "python",
   "name": "python3"
  },
  "language_info": {
   "codemirror_mode": {
    "name": "ipython",
    "version": 3
   },
   "file_extension": ".py",
   "mimetype": "text/x-python",
   "name": "python",
   "nbconvert_exporter": "python",
   "pygments_lexer": "ipython3",
   "version": "3.8.5"
  }
 },
 "nbformat": 4,
 "nbformat_minor": 2
}
