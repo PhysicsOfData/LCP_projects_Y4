{
 "cells": [
  {
   "cell_type": "markdown",
   "metadata": {},
   "source": [
    "# Volatility carry trading strategy\n",
    "\n",
    "### Description\n",
    "\n",
    "Check the document in the repo for the description and assignment. That's temporary (and in Italian..), soon to appear a proper version\n",
    "\n",
    "### References\n",
    "\n",
    "\n",
    "\n",
    "### Assignment\n",
    "\n",
    "\n",
    "### Contacts\n",
    "\n",
    "Andrea Perin <andrea.perin@xsorcapital.com>\n",
    "Federico Graceffa <federico.graceffa@xsorcapital.com>"
   ]
  },
  {
   "cell_type": "code",
   "execution_count": null,
   "metadata": {},
   "outputs": [],
   "source": []
  }
 ],
 "metadata": {
  "kernelspec": {
   "display_name": "Python 3",
   "language": "python",
   "name": "python3"
  },
  "language_info": {
   "codemirror_mode": {
    "name": "ipython",
    "version": 3
   },
   "file_extension": ".py",
   "mimetype": "text/x-python",
   "name": "python",
   "nbconvert_exporter": "python",
   "pygments_lexer": "ipython3",
   "version": "3.8.5"
  }
 },
 "nbformat": 4,
 "nbformat_minor": 2
}
