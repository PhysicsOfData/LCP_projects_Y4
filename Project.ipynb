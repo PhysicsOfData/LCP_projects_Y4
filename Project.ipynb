{
 "cells": [
  {
   "cell_type": "markdown",
   "metadata": {},
   "source": [
    "# Critical Scale Invariance in a Healthy Human Heart Rate\n",
    "\n",
    "### Description\n",
    "\n",
    "In this project you will analyse from a physics perspective time series of human heart rate. You will demonstrate the robust scale-invariance in the probability density function (PDF) of detrended healthy human heart rate increments. Moreover, you will show that such increments are not Gaussian distributed, but they display fat tails. This scale-independent and fractal structure supports the view that a healthy human heart rate is controlled to converge continually to a critical state.\n",
    "\n",
    "### References\n",
    "\n",
    "* Original paper: https://journals.aps.org/prl/pdf/10.1103/PhysRevLett.93.178103\n",
    "\n",
    "\n",
    "### Assignment\n",
    "\n",
    "1. build the cumulative time series B(i) from the detrended and normalised heart beat time series b(i)\n",
    "2. Do a polynomial fit of B(i)\n",
    "3. Calculate the  increments (fluctuation) from the polynomial fit\n",
    "4. Build the increments PDF and fit it with Gaussian and non Gaussian distributions.\n",
    "5. Test the scale invariance of the PDFs by collapse plot\n",
    "\n",
    "\n",
    "\n",
    "### Contacts\n",
    "\n",
    "Samir Suweis <samir.suweis@unipd.it>"
   ]
  },
  {
   "cell_type": "code",
   "execution_count": null,
   "metadata": {},
   "outputs": [],
   "source": []
  }
 ],
 "metadata": {
  "kernelspec": {
   "display_name": "Python 3",
   "language": "python",
   "name": "python3"
  },
  "language_info": {
   "codemirror_mode": {
    "name": "ipython",
    "version": 3
   },
   "file_extension": ".py",
   "mimetype": "text/x-python",
   "name": "python",
   "nbconvert_exporter": "python",
   "pygments_lexer": "ipython3",
   "version": "3.5.4"
  }
 },
 "nbformat": 4,
 "nbformat_minor": 2
}
