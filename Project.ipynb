{
 "cells": [
  {
   "cell_type": "markdown",
   "metadata": {},
   "source": [
    "# Advanced DQM for a Drift Tube detector\n"
   ]
  },
  {
   "cell_type": "markdown",
   "metadata": {},
   "source": [
    "## Intro\n",
    "A novel approach for muons identification and track parameter estimation [[1]] consists in the implementation of an algorithm mixing artificial neural networks\n",
    "and analytical methods on a FPGA. This algorithm is being tested on a\n",
    "cosmic muon telescope at the Legnaro INFN National Laboratory (LNL), a detector composed by a\n",
    "set of drift-tubes (DT) reproducing a small-scale replica of those in use at CMS. \n",
    "\n",
    "## Resources\n",
    "- Description of the experimental setup -> [[2]] chapter 1 (1.2.1 explain the actual configuration) \n",
    "- How we track muons using scintillator signals -> [[2]] section 2.2, 2.4 + chapter 3\n",
    "- How the ML trigger algorithm reconstructs tracks (mean timer technique) ->  + [[4]] (minimal summary) + [[3]] section 3.1 (complete documentation)\n",
    "\n",
    "## Outline\n",
    "\n",
    "1. Build a 2D dataset with t<sub>drift</sub> and the crossing angle &theta; as features\n",
    "   * using scintillator signals\n",
    "   * using the ML algorithm reconstruction hidden within data\n",
    "2. Study the correlation between the two features \n",
    "3. Test the performance of \"the algorithm\" (we should find a name for that algorithm) using the 2D dataset built in 1.\n",
    "   * NN architecture &rarr; more complex than 1x3x1 (maybe 2x3x3 or 2x5x5)\n",
    "   * What is the average training time for the algorithm?\n",
    "   * If we put a constraint on the crossing angle, does the algorithm detect the anomaly in the drift time distribution or it correctly sees the correlation between the two features?\n",
    "\n",
    "[1]: https://arxiv.org/abs/2105.04428\n",
    "[2]: http://tesi.cab.unipd.it/65910/1/Franceschetto_Giacomo.pdf\n",
    "[3]: http://cds.cern.ch/record/1073687/files/NOTE2007_034.pdf?version=1\n",
    "[4]: https://github.com/spiccinelli/LCP_projects_Y3/blob/track_group6/Project.ipynb\n"
   ]
  },
  {
   "cell_type": "markdown",
   "metadata": {},
   "source": [
    "## Contacts\n",
    "* Marco Zanetti <marco.zanetti@unipd.it>\\n\",\n",
    "    \"* Alberto Zucchetta <alberto.zucchetta@pd.infn.it>\\n\",\n",
    "    \"* Jacopo Pazzini <jacopo.pazzini@unipd.it>\\n\""
   ]
  }
 ],
 "metadata": {
  "kernelspec": {
   "display_name": "Python 3",
   "language": "python",
   "name": "python3"
  },
  "language_info": {
   "codemirror_mode": {
    "name": "ipython",
    "version": 3
   },
   "file_extension": ".py",
   "mimetype": "text/x-python",
   "name": "python",
   "nbconvert_exporter": "python",
   "pygments_lexer": "ipython3",
   "version": "3.8.5"
  }
 },
 "nbformat": 4,
 "nbformat_minor": 2
}
